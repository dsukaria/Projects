{
 "cells": [
  {
   "cell_type": "markdown",
   "id": "3682297a-e700-4f8d-bfcb-3237a81179c1",
   "metadata": {},
   "source": [
    "## A Data-Driven Analysis of Movie Success"
   ]
  },
  {
   "cell_type": "markdown",
   "id": "d3beb14e-e1d0-4f61-9bb4-22ce1daa3fdf",
   "metadata": {},
   "source": [
    "#### About Dataset: \n",
    "This dataset contains information about the top 1000 grossing Hollywood movies, focusing on factors that contribute to their success. \n",
    "\n",
    "#### Goal:\n",
    "By performing a data analysis using Python, the aim of this project is to identify and understand the key factors that contribute to a movie's financial success, by analysing factors such as budget, running time and the release dates to uncover patterns and insights. "
   ]
  },
  {
   "cell_type": "markdown",
   "id": "f9c5afb0-7eda-4618-91d2-1cc9d32ce4ed",
   "metadata": {},
   "source": [
    "### Pre-processing\n",
    "\n",
    "Import the necessary libraries:"
   ]
  },
  {
   "cell_type": "code",
   "execution_count": 472,
   "id": "7bbde3e2-d560-401b-a266-5511ece56a13",
   "metadata": {},
   "outputs": [],
   "source": [
    "import pandas as pd\n",
    "import numpy as np\n",
    "from scipy import stats\n",
    "import seaborn as sns\n",
    "\n",
    "\n",
    "import matplotlib.pyplot as plt\n",
    "import matplotlib.mlab as mlab\n",
    "import matplotlib\n",
    "plt.style.use('ggplot')\n",
    "from matplotlib.pyplot import figure\n",
    "\n",
    "%matplotlib inline"
   ]
  },
  {
   "cell_type": "markdown",
   "id": "a1c7aa81-7707-47b4-b7bb-69aaccb358bb",
   "metadata": {},
   "source": [
    "Reading the data: "
   ]
  },
  {
   "cell_type": "code",
   "execution_count": 473,
   "id": "e9ea12d0-d278-475f-ab62-b122c9c70e95",
   "metadata": {},
   "outputs": [],
   "source": [
    "data = pd.read_csv('Highest Holywood Grossing Movies.csv', encoding='latin1')"
   ]
  },
  {
   "cell_type": "markdown",
   "id": "cb20a863-1a3c-4cb5-92a8-b844440fd0fe",
   "metadata": {},
   "source": [
    "Looking at the data:"
   ]
  },
  {
   "cell_type": "code",
   "execution_count": 474,
   "id": "fa61ee7c-5a31-467f-b7d8-69d3c13fa86e",
   "metadata": {},
   "outputs": [
    {
     "data": {
      "text/html": [
       "<div>\n",
       "<style scoped>\n",
       "    .dataframe tbody tr th:only-of-type {\n",
       "        vertical-align: middle;\n",
       "    }\n",
       "\n",
       "    .dataframe tbody tr th {\n",
       "        vertical-align: top;\n",
       "    }\n",
       "\n",
       "    .dataframe thead th {\n",
       "        text-align: right;\n",
       "    }\n",
       "</style>\n",
       "<table border=\"1\" class=\"dataframe\">\n",
       "  <thead>\n",
       "    <tr style=\"text-align: right;\">\n",
       "      <th></th>\n",
       "      <th>Unnamed: 0</th>\n",
       "      <th>Title</th>\n",
       "      <th>Movie Info</th>\n",
       "      <th>Year</th>\n",
       "      <th>Distributor</th>\n",
       "      <th>Budget (in $)</th>\n",
       "      <th>Domestic Opening (in $)</th>\n",
       "      <th>Domestic Sales (in $)</th>\n",
       "      <th>International Sales (in $)</th>\n",
       "      <th>World Wide Sales (in $)</th>\n",
       "      <th>Release Date</th>\n",
       "      <th>Genre</th>\n",
       "      <th>Running Time</th>\n",
       "      <th>License</th>\n",
       "    </tr>\n",
       "  </thead>\n",
       "  <tbody>\n",
       "    <tr>\n",
       "      <th>0</th>\n",
       "      <td>0</td>\n",
       "      <td>Avatar</td>\n",
       "      <td>A paraplegic Marine dispatched to the moon Pan...</td>\n",
       "      <td>2009</td>\n",
       "      <td>Twentieth Century Fox</td>\n",
       "      <td>237000000</td>\n",
       "      <td>77025481</td>\n",
       "      <td>785221649</td>\n",
       "      <td>2138484377</td>\n",
       "      <td>2923706026</td>\n",
       "      <td>16-Dec-09</td>\n",
       "      <td>['Action', 'Adventure', 'Fantasy', 'Sci-Fi']</td>\n",
       "      <td>2 hr 42 min</td>\n",
       "      <td>PG-13</td>\n",
       "    </tr>\n",
       "    <tr>\n",
       "      <th>1</th>\n",
       "      <td>1</td>\n",
       "      <td>Avengers: Endgame</td>\n",
       "      <td>After the devastating events of Avengers: Infi...</td>\n",
       "      <td>2019</td>\n",
       "      <td>Walt Disney Studios Motion Pictures</td>\n",
       "      <td>356000000</td>\n",
       "      <td>357115007</td>\n",
       "      <td>858373000</td>\n",
       "      <td>1941066100</td>\n",
       "      <td>2799439100</td>\n",
       "      <td>24-Apr-19</td>\n",
       "      <td>['Action', 'Adventure', 'Drama', 'Sci-Fi']</td>\n",
       "      <td>3 hr 1 min</td>\n",
       "      <td>PG-13</td>\n",
       "    </tr>\n",
       "    <tr>\n",
       "      <th>2</th>\n",
       "      <td>2</td>\n",
       "      <td>Avatar: The Way of Water</td>\n",
       "      <td>Jake Sully lives with his newfound family form...</td>\n",
       "      <td>2022</td>\n",
       "      <td>20th Century Studios</td>\n",
       "      <td>December 14 2022 (EMEA APAC)</td>\n",
       "      <td>134100226</td>\n",
       "      <td>684075767</td>\n",
       "      <td>1636174514</td>\n",
       "      <td>2320250281</td>\n",
       "      <td>24-Apr-19</td>\n",
       "      <td>['Action', 'Adventure', 'Drama', 'Sci-Fi']</td>\n",
       "      <td>3 hr 1 min</td>\n",
       "      <td>PG-13</td>\n",
       "    </tr>\n",
       "    <tr>\n",
       "      <th>3</th>\n",
       "      <td>3</td>\n",
       "      <td>Titanic</td>\n",
       "      <td>A seventeen-year-old aristocrat falls in love ...</td>\n",
       "      <td>1997</td>\n",
       "      <td>Paramount Pictures</td>\n",
       "      <td>200000000</td>\n",
       "      <td>28638131</td>\n",
       "      <td>674292608</td>\n",
       "      <td>1590450697</td>\n",
       "      <td>2264743305</td>\n",
       "      <td>19-Dec-97</td>\n",
       "      <td>['Drama', 'Romance']</td>\n",
       "      <td>3 hr 14 min</td>\n",
       "      <td>PG-13</td>\n",
       "    </tr>\n",
       "    <tr>\n",
       "      <th>4</th>\n",
       "      <td>4</td>\n",
       "      <td>Star Wars: Episode VII - The Force Awakens</td>\n",
       "      <td>As a new threat to the galaxy rises, Rey, a de...</td>\n",
       "      <td>2015</td>\n",
       "      <td>Walt Disney Studios Motion Pictures</td>\n",
       "      <td>245000000</td>\n",
       "      <td>247966675</td>\n",
       "      <td>936662225</td>\n",
       "      <td>1134647993</td>\n",
       "      <td>2071310218</td>\n",
       "      <td>16-Dec-15</td>\n",
       "      <td>['Action', 'Adventure', 'Sci-Fi']</td>\n",
       "      <td>2 hr 18 min</td>\n",
       "      <td>PG-13</td>\n",
       "    </tr>\n",
       "  </tbody>\n",
       "</table>\n",
       "</div>"
      ],
      "text/plain": [
       "   Unnamed: 0                                       Title  \\\n",
       "0           0                                      Avatar   \n",
       "1           1                           Avengers: Endgame   \n",
       "2           2                    Avatar: The Way of Water   \n",
       "3           3                                     Titanic   \n",
       "4           4  Star Wars: Episode VII - The Force Awakens   \n",
       "\n",
       "                                          Movie Info  Year  \\\n",
       "0  A paraplegic Marine dispatched to the moon Pan...  2009   \n",
       "1  After the devastating events of Avengers: Infi...  2019   \n",
       "2  Jake Sully lives with his newfound family form...  2022   \n",
       "3  A seventeen-year-old aristocrat falls in love ...  1997   \n",
       "4  As a new threat to the galaxy rises, Rey, a de...  2015   \n",
       "\n",
       "                           Distributor                 Budget (in $)  \\\n",
       "0                Twentieth Century Fox                     237000000   \n",
       "1  Walt Disney Studios Motion Pictures                     356000000   \n",
       "2                 20th Century Studios  December 14 2022 (EMEA APAC)   \n",
       "3                   Paramount Pictures                     200000000   \n",
       "4  Walt Disney Studios Motion Pictures                     245000000   \n",
       "\n",
       "  Domestic Opening (in $)  Domestic Sales (in $)  International Sales (in $)  \\\n",
       "0                77025481              785221649                  2138484377   \n",
       "1               357115007              858373000                  1941066100   \n",
       "2               134100226              684075767                  1636174514   \n",
       "3                28638131              674292608                  1590450697   \n",
       "4               247966675              936662225                  1134647993   \n",
       "\n",
       "   World Wide Sales (in $) Release Date  \\\n",
       "0               2923706026    16-Dec-09   \n",
       "1               2799439100    24-Apr-19   \n",
       "2               2320250281    24-Apr-19   \n",
       "3               2264743305    19-Dec-97   \n",
       "4               2071310218    16-Dec-15   \n",
       "\n",
       "                                          Genre Running Time License  \n",
       "0  ['Action', 'Adventure', 'Fantasy', 'Sci-Fi']  2 hr 42 min   PG-13  \n",
       "1    ['Action', 'Adventure', 'Drama', 'Sci-Fi']   3 hr 1 min   PG-13  \n",
       "2    ['Action', 'Adventure', 'Drama', 'Sci-Fi']   3 hr 1 min   PG-13  \n",
       "3                          ['Drama', 'Romance']  3 hr 14 min   PG-13  \n",
       "4             ['Action', 'Adventure', 'Sci-Fi']  2 hr 18 min   PG-13  "
      ]
     },
     "execution_count": 474,
     "metadata": {},
     "output_type": "execute_result"
    }
   ],
   "source": [
    "data.head()"
   ]
  },
  {
   "cell_type": "markdown",
   "id": "1b72f870-876b-4887-9ae7-7ff6d78db7d0",
   "metadata": {},
   "source": [
    "Data Cleaning"
   ]
  },
  {
   "cell_type": "markdown",
   "id": "058e7f2e-b807-4b2f-af26-82979f56973f",
   "metadata": {},
   "source": [
    "Remove unnecessary columns - Domestic and International sales are both included in the target variable (World Wide Sales)."
   ]
  },
  {
   "cell_type": "code",
   "execution_count": 475,
   "id": "f13072e9-992a-4af1-bb9e-687c00f5cd64",
   "metadata": {},
   "outputs": [],
   "source": [
    "data = data.drop(['Unnamed: 0','Movie Info','Domestic Sales (in $)','International Sales (in $)'], axis=1)"
   ]
  },
  {
   "cell_type": "markdown",
   "id": "b7dbd783-d9a5-4f98-9e34-8fc489979860",
   "metadata": {},
   "source": [
    "Check the data type of each column"
   ]
  },
  {
   "cell_type": "code",
   "execution_count": 476,
   "id": "76425a88-9260-4b9f-ba57-06e0d97a7b97",
   "metadata": {},
   "outputs": [
    {
     "name": "stdout",
     "output_type": "stream",
     "text": [
      "Title                      object\n",
      "Year                        int64\n",
      "Distributor                object\n",
      "Budget (in $)              object\n",
      "Domestic Opening (in $)    object\n",
      "World Wide Sales (in $)     int64\n",
      "Release Date               object\n",
      "Genre                      object\n",
      "Running Time               object\n",
      "License                    object\n",
      "dtype: object\n"
     ]
    }
   ],
   "source": [
    "print(data.dtypes)"
   ]
  },
  {
   "cell_type": "markdown",
   "id": "f8cbba8c-474d-4dce-8890-e827178b45e7",
   "metadata": {},
   "source": [
    "Adding a month column:"
   ]
  },
  {
   "cell_type": "code",
   "execution_count": 477,
   "id": "7588471b-d471-459d-9bfe-afbefc6047e1",
   "metadata": {},
   "outputs": [],
   "source": [
    "data['Release Date'] = pd.to_datetime(data['Release Date'], format = '%d-%b-%y')"
   ]
  },
  {
   "cell_type": "code",
   "execution_count": 478,
   "id": "63da714c-99ec-4c9b-8200-505723b9a774",
   "metadata": {},
   "outputs": [],
   "source": [
    "data['Month'] = data['Release Date'].astype(str).str[5:7]\n"
   ]
  },
  {
   "cell_type": "markdown",
   "id": "7fd73ba4-9d95-4fa8-9d47-a4e02aee54d6",
   "metadata": {},
   "source": [
    "Convert necessary columns to correct data type:"
   ]
  },
  {
   "cell_type": "code",
   "execution_count": 479,
   "id": "5d4d81f7-0a00-45e8-8924-b27239201e29",
   "metadata": {},
   "outputs": [
    {
     "name": "stdout",
     "output_type": "stream",
     "text": [
      "Title                              object\n",
      "Year                                int64\n",
      "Distributor                        object\n",
      "Budget (in $)                     float64\n",
      "Domestic Opening (in $)           float64\n",
      "World Wide Sales (in $)             int64\n",
      "Release Date               datetime64[ns]\n",
      "Genre                              object\n",
      "Running Time                       object\n",
      "License                            object\n",
      "Month                              object\n",
      "dtype: object\n"
     ]
    }
   ],
   "source": [
    "dollar_columns = ['Budget (in $)','Domestic Opening (in $)']\n",
    "for col in dollar_columns:\n",
    "    data[col] = pd.to_numeric(data[col], errors='coerce')\n",
    "\n",
    "print(data.dtypes)"
   ]
  },
  {
   "cell_type": "markdown",
   "id": "de06d977-be2c-4993-b4f4-c3c7f074460a",
   "metadata": {},
   "source": [
    "Ordering the data by budget:"
   ]
  },
  {
   "cell_type": "code",
   "execution_count": 480,
   "id": "29703fae-c2bf-4c79-b13d-40f60b2d013b",
   "metadata": {},
   "outputs": [
    {
     "data": {
      "text/html": [
       "<div>\n",
       "<style scoped>\n",
       "    .dataframe tbody tr th:only-of-type {\n",
       "        vertical-align: middle;\n",
       "    }\n",
       "\n",
       "    .dataframe tbody tr th {\n",
       "        vertical-align: top;\n",
       "    }\n",
       "\n",
       "    .dataframe thead th {\n",
       "        text-align: right;\n",
       "    }\n",
       "</style>\n",
       "<table border=\"1\" class=\"dataframe\">\n",
       "  <thead>\n",
       "    <tr style=\"text-align: right;\">\n",
       "      <th></th>\n",
       "      <th>Title</th>\n",
       "      <th>Year</th>\n",
       "      <th>Distributor</th>\n",
       "      <th>Budget (in $)</th>\n",
       "      <th>Domestic Opening (in $)</th>\n",
       "      <th>World Wide Sales (in $)</th>\n",
       "      <th>Release Date</th>\n",
       "      <th>Genre</th>\n",
       "      <th>Running Time</th>\n",
       "      <th>License</th>\n",
       "      <th>Month</th>\n",
       "    </tr>\n",
       "  </thead>\n",
       "  <tbody>\n",
       "    <tr>\n",
       "      <th>1</th>\n",
       "      <td>Avengers: Endgame</td>\n",
       "      <td>2019</td>\n",
       "      <td>Walt Disney Studios Motion Pictures</td>\n",
       "      <td>356000000.0</td>\n",
       "      <td>357115007.0</td>\n",
       "      <td>2799439100</td>\n",
       "      <td>2019-04-24</td>\n",
       "      <td>['Action', 'Adventure', 'Drama', 'Sci-Fi']</td>\n",
       "      <td>3 hr 1 min</td>\n",
       "      <td>PG-13</td>\n",
       "      <td>04</td>\n",
       "    </tr>\n",
       "    <tr>\n",
       "      <th>18</th>\n",
       "      <td>Star Wars: Episode VIII - The Last Jedi</td>\n",
       "      <td>2017</td>\n",
       "      <td>Walt Disney Studios Motion Pictures</td>\n",
       "      <td>317000000.0</td>\n",
       "      <td>220009584.0</td>\n",
       "      <td>1334407706</td>\n",
       "      <td>2017-12-13</td>\n",
       "      <td>['Action', 'Adventure', 'Fantasy', 'Sci-Fi']</td>\n",
       "      <td>2 hr 32 min</td>\n",
       "      <td>PG-13</td>\n",
       "      <td>12</td>\n",
       "    </tr>\n",
       "    <tr>\n",
       "      <th>59</th>\n",
       "      <td>Pirates of the Caribbean: At World's End</td>\n",
       "      <td>2007</td>\n",
       "      <td>Walt Disney Studios Motion Pictures</td>\n",
       "      <td>300000000.0</td>\n",
       "      <td>114732820.0</td>\n",
       "      <td>961691209</td>\n",
       "      <td>2007-05-22</td>\n",
       "      <td>['Action', 'Adventure', 'Fantasy']</td>\n",
       "      <td>2 hr 49 min</td>\n",
       "      <td>PG-13</td>\n",
       "      <td>05</td>\n",
       "    </tr>\n",
       "    <tr>\n",
       "      <th>196</th>\n",
       "      <td>Mission: Impossible - Dead Reckoning Part One</td>\n",
       "      <td>2023</td>\n",
       "      <td>Paramount Pictures</td>\n",
       "      <td>291000000.0</td>\n",
       "      <td>54688347.0</td>\n",
       "      <td>567535383</td>\n",
       "      <td>2023-07-08</td>\n",
       "      <td>['Action', 'Adventure', 'Thriller']</td>\n",
       "      <td>2 hr 43 min</td>\n",
       "      <td>PG-13</td>\n",
       "      <td>07</td>\n",
       "    </tr>\n",
       "    <tr>\n",
       "      <th>354</th>\n",
       "      <td>Solo: A Star Wars Story</td>\n",
       "      <td>2018</td>\n",
       "      <td>Walt Disney Studios Motion Pictures</td>\n",
       "      <td>275000000.0</td>\n",
       "      <td>84420489.0</td>\n",
       "      <td>392924807</td>\n",
       "      <td>2018-05-23</td>\n",
       "      <td>['Action', 'Adventure', 'Sci-Fi']</td>\n",
       "      <td>2 hr 15 min</td>\n",
       "      <td>PG-13</td>\n",
       "      <td>05</td>\n",
       "    </tr>\n",
       "    <tr>\n",
       "      <th>...</th>\n",
       "      <td>...</td>\n",
       "      <td>...</td>\n",
       "      <td>...</td>\n",
       "      <td>...</td>\n",
       "      <td>...</td>\n",
       "      <td>...</td>\n",
       "      <td>...</td>\n",
       "      <td>...</td>\n",
       "      <td>...</td>\n",
       "      <td>...</td>\n",
       "      <td>...</td>\n",
       "    </tr>\n",
       "    <tr>\n",
       "      <th>981</th>\n",
       "      <td>Cape Fear</td>\n",
       "      <td>1991</td>\n",
       "      <td>Universal Pictures</td>\n",
       "      <td>NaN</td>\n",
       "      <td>10261025.0</td>\n",
       "      <td>182291969</td>\n",
       "      <td>2012-03-15</td>\n",
       "      <td>['Adventure', 'Comedy', 'Drama', 'Family', 'Fa...</td>\n",
       "      <td>1 hr 46 min</td>\n",
       "      <td>PG</td>\n",
       "      <td>03</td>\n",
       "    </tr>\n",
       "    <tr>\n",
       "      <th>988</th>\n",
       "      <td>The First Wives Club</td>\n",
       "      <td>1996</td>\n",
       "      <td>Paramount Pictures</td>\n",
       "      <td>NaN</td>\n",
       "      <td>18913411.0</td>\n",
       "      <td>181489203</td>\n",
       "      <td>2006-05-10</td>\n",
       "      <td>['Action', 'Adventure', 'Thriller']</td>\n",
       "      <td>1 hr 38 min</td>\n",
       "      <td>PG-13</td>\n",
       "      <td>05</td>\n",
       "    </tr>\n",
       "    <tr>\n",
       "      <th>989</th>\n",
       "      <td>Cliff Walkers</td>\n",
       "      <td>2021</td>\n",
       "      <td>CMC Pictures</td>\n",
       "      <td>NaN</td>\n",
       "      <td>53142.0</td>\n",
       "      <td>181325565</td>\n",
       "      <td>2006-05-10</td>\n",
       "      <td>['Action', 'Adventure', 'Thriller']</td>\n",
       "      <td>1 hr 38 min</td>\n",
       "      <td>PG-13</td>\n",
       "      <td>05</td>\n",
       "    </tr>\n",
       "    <tr>\n",
       "      <th>990</th>\n",
       "      <td>Scooby-Doo 2: Monsters Unleashed</td>\n",
       "      <td>2004</td>\n",
       "      <td>Warner Bros.</td>\n",
       "      <td>NaN</td>\n",
       "      <td>29438331.0</td>\n",
       "      <td>181239132</td>\n",
       "      <td>2006-05-10</td>\n",
       "      <td>['Action', 'Adventure', 'Thriller']</td>\n",
       "      <td>1 hr 38 min</td>\n",
       "      <td>PG-13</td>\n",
       "      <td>05</td>\n",
       "    </tr>\n",
       "    <tr>\n",
       "      <th>999</th>\n",
       "      <td>M3GAN</td>\n",
       "      <td>2022</td>\n",
       "      <td>Universal Pictures</td>\n",
       "      <td>NaN</td>\n",
       "      <td>30429860.0</td>\n",
       "      <td>179968873</td>\n",
       "      <td>2006-11-22</td>\n",
       "      <td>['Action', 'Crime', 'Sci-Fi', 'Thriller']</td>\n",
       "      <td>2 hr 6 min</td>\n",
       "      <td>PG-13</td>\n",
       "      <td>11</td>\n",
       "    </tr>\n",
       "  </tbody>\n",
       "</table>\n",
       "<p>1000 rows × 11 columns</p>\n",
       "</div>"
      ],
      "text/plain": [
       "                                             Title  Year  \\\n",
       "1                                Avengers: Endgame  2019   \n",
       "18         Star Wars: Episode VIII - The Last Jedi  2017   \n",
       "59        Pirates of the Caribbean: At World's End  2007   \n",
       "196  Mission: Impossible - Dead Reckoning Part One  2023   \n",
       "354                        Solo: A Star Wars Story  2018   \n",
       "..                                             ...   ...   \n",
       "981                                      Cape Fear  1991   \n",
       "988                           The First Wives Club  1996   \n",
       "989                                  Cliff Walkers  2021   \n",
       "990               Scooby-Doo 2: Monsters Unleashed  2004   \n",
       "999                                          M3GAN  2022   \n",
       "\n",
       "                             Distributor  Budget (in $)  \\\n",
       "1    Walt Disney Studios Motion Pictures    356000000.0   \n",
       "18   Walt Disney Studios Motion Pictures    317000000.0   \n",
       "59   Walt Disney Studios Motion Pictures    300000000.0   \n",
       "196                   Paramount Pictures    291000000.0   \n",
       "354  Walt Disney Studios Motion Pictures    275000000.0   \n",
       "..                                   ...            ...   \n",
       "981                   Universal Pictures            NaN   \n",
       "988                   Paramount Pictures            NaN   \n",
       "989                         CMC Pictures            NaN   \n",
       "990                         Warner Bros.            NaN   \n",
       "999                   Universal Pictures            NaN   \n",
       "\n",
       "     Domestic Opening (in $)  World Wide Sales (in $) Release Date  \\\n",
       "1                357115007.0               2799439100   2019-04-24   \n",
       "18               220009584.0               1334407706   2017-12-13   \n",
       "59               114732820.0                961691209   2007-05-22   \n",
       "196               54688347.0                567535383   2023-07-08   \n",
       "354               84420489.0                392924807   2018-05-23   \n",
       "..                       ...                      ...          ...   \n",
       "981               10261025.0                182291969   2012-03-15   \n",
       "988               18913411.0                181489203   2006-05-10   \n",
       "989                  53142.0                181325565   2006-05-10   \n",
       "990               29438331.0                181239132   2006-05-10   \n",
       "999               30429860.0                179968873   2006-11-22   \n",
       "\n",
       "                                                 Genre Running Time License  \\\n",
       "1           ['Action', 'Adventure', 'Drama', 'Sci-Fi']   3 hr 1 min   PG-13   \n",
       "18        ['Action', 'Adventure', 'Fantasy', 'Sci-Fi']  2 hr 32 min   PG-13   \n",
       "59                  ['Action', 'Adventure', 'Fantasy']  2 hr 49 min   PG-13   \n",
       "196                ['Action', 'Adventure', 'Thriller']  2 hr 43 min   PG-13   \n",
       "354                  ['Action', 'Adventure', 'Sci-Fi']  2 hr 15 min   PG-13   \n",
       "..                                                 ...          ...     ...   \n",
       "981  ['Adventure', 'Comedy', 'Drama', 'Family', 'Fa...  1 hr 46 min      PG   \n",
       "988                ['Action', 'Adventure', 'Thriller']  1 hr 38 min   PG-13   \n",
       "989                ['Action', 'Adventure', 'Thriller']  1 hr 38 min   PG-13   \n",
       "990                ['Action', 'Adventure', 'Thriller']  1 hr 38 min   PG-13   \n",
       "999          ['Action', 'Crime', 'Sci-Fi', 'Thriller']   2 hr 6 min   PG-13   \n",
       "\n",
       "    Month  \n",
       "1      04  \n",
       "18     12  \n",
       "59     05  \n",
       "196    07  \n",
       "354    05  \n",
       "..    ...  \n",
       "981    03  \n",
       "988    05  \n",
       "989    05  \n",
       "990    05  \n",
       "999    11  \n",
       "\n",
       "[1000 rows x 11 columns]"
      ]
     },
     "execution_count": 480,
     "metadata": {},
     "output_type": "execute_result"
    }
   ],
   "source": [
    "data.sort_values(by=['Budget (in $)'],inplace=False,ascending=False)"
   ]
  },
  {
   "cell_type": "markdown",
   "id": "7cda0f83-c4fc-4fac-978d-19a27797cc3c",
   "metadata": {},
   "source": [
    "Checking for missing data"
   ]
  },
  {
   "cell_type": "code",
   "execution_count": 481,
   "id": "ce59ce8e-91f3-42bd-812b-cc25fa03a997",
   "metadata": {},
   "outputs": [
    {
     "name": "stdout",
     "output_type": "stream",
     "text": [
      "Title-0%\n",
      "Year-0%\n",
      "Distributor-0%\n",
      "Budget (in $)-22%\n",
      "Domestic Opening (in $)-3%\n",
      "World Wide Sales (in $)-0%\n",
      "Release Date-0%\n",
      "Genre-0%\n",
      "Running Time-0%\n",
      "License-6%\n",
      "Month-0%\n"
     ]
    }
   ],
   "source": [
    "for col in data.columns:\n",
    "    percent_missing = np.mean(data[col].isnull())\n",
    "    print('{}-{}%'.format(col,round(percent_missing*100)))"
   ]
  },
  {
   "cell_type": "markdown",
   "id": "9a29aaf2-8188-456f-bef2-20453bb8adfb",
   "metadata": {},
   "source": [
    "Removing missing values and duplicates"
   ]
  },
  {
   "cell_type": "code",
   "execution_count": 482,
   "id": "8a1bfe9b-9399-462d-86b8-6c8090a01c32",
   "metadata": {},
   "outputs": [
    {
     "data": {
      "text/html": [
       "<div>\n",
       "<style scoped>\n",
       "    .dataframe tbody tr th:only-of-type {\n",
       "        vertical-align: middle;\n",
       "    }\n",
       "\n",
       "    .dataframe tbody tr th {\n",
       "        vertical-align: top;\n",
       "    }\n",
       "\n",
       "    .dataframe thead th {\n",
       "        text-align: right;\n",
       "    }\n",
       "</style>\n",
       "<table border=\"1\" class=\"dataframe\">\n",
       "  <thead>\n",
       "    <tr style=\"text-align: right;\">\n",
       "      <th></th>\n",
       "      <th>Title</th>\n",
       "      <th>Year</th>\n",
       "      <th>Distributor</th>\n",
       "      <th>Budget (in $)</th>\n",
       "      <th>Domestic Opening (in $)</th>\n",
       "      <th>World Wide Sales (in $)</th>\n",
       "      <th>Release Date</th>\n",
       "      <th>Genre</th>\n",
       "      <th>Running Time</th>\n",
       "      <th>License</th>\n",
       "      <th>Month</th>\n",
       "    </tr>\n",
       "  </thead>\n",
       "  <tbody>\n",
       "    <tr>\n",
       "      <th>0</th>\n",
       "      <td>Avatar</td>\n",
       "      <td>2009</td>\n",
       "      <td>Twentieth Century Fox</td>\n",
       "      <td>237000000.0</td>\n",
       "      <td>77025481.0</td>\n",
       "      <td>2923706026</td>\n",
       "      <td>2009-12-16</td>\n",
       "      <td>['Action', 'Adventure', 'Fantasy', 'Sci-Fi']</td>\n",
       "      <td>2 hr 42 min</td>\n",
       "      <td>PG-13</td>\n",
       "      <td>12</td>\n",
       "    </tr>\n",
       "    <tr>\n",
       "      <th>1</th>\n",
       "      <td>Avengers: Endgame</td>\n",
       "      <td>2019</td>\n",
       "      <td>Walt Disney Studios Motion Pictures</td>\n",
       "      <td>356000000.0</td>\n",
       "      <td>357115007.0</td>\n",
       "      <td>2799439100</td>\n",
       "      <td>2019-04-24</td>\n",
       "      <td>['Action', 'Adventure', 'Drama', 'Sci-Fi']</td>\n",
       "      <td>3 hr 1 min</td>\n",
       "      <td>PG-13</td>\n",
       "      <td>04</td>\n",
       "    </tr>\n",
       "    <tr>\n",
       "      <th>3</th>\n",
       "      <td>Titanic</td>\n",
       "      <td>1997</td>\n",
       "      <td>Paramount Pictures</td>\n",
       "      <td>200000000.0</td>\n",
       "      <td>28638131.0</td>\n",
       "      <td>2264743305</td>\n",
       "      <td>1997-12-19</td>\n",
       "      <td>['Drama', 'Romance']</td>\n",
       "      <td>3 hr 14 min</td>\n",
       "      <td>PG-13</td>\n",
       "      <td>12</td>\n",
       "    </tr>\n",
       "    <tr>\n",
       "      <th>4</th>\n",
       "      <td>Star Wars: Episode VII - The Force Awakens</td>\n",
       "      <td>2015</td>\n",
       "      <td>Walt Disney Studios Motion Pictures</td>\n",
       "      <td>245000000.0</td>\n",
       "      <td>247966675.0</td>\n",
       "      <td>2071310218</td>\n",
       "      <td>2015-12-16</td>\n",
       "      <td>['Action', 'Adventure', 'Sci-Fi']</td>\n",
       "      <td>2 hr 18 min</td>\n",
       "      <td>PG-13</td>\n",
       "      <td>12</td>\n",
       "    </tr>\n",
       "    <tr>\n",
       "      <th>7</th>\n",
       "      <td>Jurassic World</td>\n",
       "      <td>2015</td>\n",
       "      <td>Universal Pictures</td>\n",
       "      <td>150000000.0</td>\n",
       "      <td>208806270.0</td>\n",
       "      <td>1671537444</td>\n",
       "      <td>2015-06-10</td>\n",
       "      <td>['Action', 'Adventure', 'Sci-Fi']</td>\n",
       "      <td>2 hr 4 min</td>\n",
       "      <td>PG-13</td>\n",
       "      <td>06</td>\n",
       "    </tr>\n",
       "    <tr>\n",
       "      <th>...</th>\n",
       "      <td>...</td>\n",
       "      <td>...</td>\n",
       "      <td>...</td>\n",
       "      <td>...</td>\n",
       "      <td>...</td>\n",
       "      <td>...</td>\n",
       "      <td>...</td>\n",
       "      <td>...</td>\n",
       "      <td>...</td>\n",
       "      <td>...</td>\n",
       "      <td>...</td>\n",
       "    </tr>\n",
       "    <tr>\n",
       "      <th>994</th>\n",
       "      <td>The Scorpion King</td>\n",
       "      <td>2002</td>\n",
       "      <td>Universal Pictures</td>\n",
       "      <td>60000000.0</td>\n",
       "      <td>36075875.0</td>\n",
       "      <td>180630907</td>\n",
       "      <td>2002-04-18</td>\n",
       "      <td>['Action', 'Adventure', 'Fantasy']</td>\n",
       "      <td>1 hr 32 min</td>\n",
       "      <td>PG-13</td>\n",
       "      <td>04</td>\n",
       "    </tr>\n",
       "    <tr>\n",
       "      <th>995</th>\n",
       "      <td>Sweet Home Alabama</td>\n",
       "      <td>2002</td>\n",
       "      <td>Walt Disney Studios Motion Pictures</td>\n",
       "      <td>30000000.0</td>\n",
       "      <td>35648740.0</td>\n",
       "      <td>180622424</td>\n",
       "      <td>2002-09-27</td>\n",
       "      <td>['Comedy', 'Romance']</td>\n",
       "      <td>1 hr 48 min</td>\n",
       "      <td>PG-13</td>\n",
       "      <td>09</td>\n",
       "    </tr>\n",
       "    <tr>\n",
       "      <th>996</th>\n",
       "      <td>Daddy's Home 2</td>\n",
       "      <td>2017</td>\n",
       "      <td>Paramount Pictures</td>\n",
       "      <td>69000000.0</td>\n",
       "      <td>29651193.0</td>\n",
       "      <td>180613824</td>\n",
       "      <td>2017-11-09</td>\n",
       "      <td>['Comedy']</td>\n",
       "      <td>1 hr 40 min</td>\n",
       "      <td>PG-13</td>\n",
       "      <td>11</td>\n",
       "    </tr>\n",
       "    <tr>\n",
       "      <th>997</th>\n",
       "      <td>Hacksaw Ridge</td>\n",
       "      <td>2016</td>\n",
       "      <td>Lionsgate</td>\n",
       "      <td>40000000.0</td>\n",
       "      <td>15190758.0</td>\n",
       "      <td>180563636</td>\n",
       "      <td>2016-11-03</td>\n",
       "      <td>['Biography', 'Drama', 'History', 'War']</td>\n",
       "      <td>2 hr 19 min</td>\n",
       "      <td>R</td>\n",
       "      <td>11</td>\n",
       "    </tr>\n",
       "    <tr>\n",
       "      <th>998</th>\n",
       "      <td>Deja Vu</td>\n",
       "      <td>2006</td>\n",
       "      <td>Walt Disney Studios Motion Pictures</td>\n",
       "      <td>75000000.0</td>\n",
       "      <td>20574802.0</td>\n",
       "      <td>180557550</td>\n",
       "      <td>2006-11-22</td>\n",
       "      <td>['Action', 'Crime', 'Sci-Fi', 'Thriller']</td>\n",
       "      <td>2 hr 6 min</td>\n",
       "      <td>PG-13</td>\n",
       "      <td>11</td>\n",
       "    </tr>\n",
       "  </tbody>\n",
       "</table>\n",
       "<p>718 rows × 11 columns</p>\n",
       "</div>"
      ],
      "text/plain": [
       "                                          Title  Year  \\\n",
       "0                                        Avatar  2009   \n",
       "1                             Avengers: Endgame  2019   \n",
       "3                                       Titanic  1997   \n",
       "4    Star Wars: Episode VII - The Force Awakens  2015   \n",
       "7                                Jurassic World  2015   \n",
       "..                                          ...   ...   \n",
       "994                           The Scorpion King  2002   \n",
       "995                          Sweet Home Alabama  2002   \n",
       "996                              Daddy's Home 2  2017   \n",
       "997                               Hacksaw Ridge  2016   \n",
       "998                                     Deja Vu  2006   \n",
       "\n",
       "                             Distributor  Budget (in $)  \\\n",
       "0                  Twentieth Century Fox    237000000.0   \n",
       "1    Walt Disney Studios Motion Pictures    356000000.0   \n",
       "3                     Paramount Pictures    200000000.0   \n",
       "4    Walt Disney Studios Motion Pictures    245000000.0   \n",
       "7                     Universal Pictures    150000000.0   \n",
       "..                                   ...            ...   \n",
       "994                   Universal Pictures     60000000.0   \n",
       "995  Walt Disney Studios Motion Pictures     30000000.0   \n",
       "996                   Paramount Pictures     69000000.0   \n",
       "997                            Lionsgate     40000000.0   \n",
       "998  Walt Disney Studios Motion Pictures     75000000.0   \n",
       "\n",
       "     Domestic Opening (in $)  World Wide Sales (in $) Release Date  \\\n",
       "0                 77025481.0               2923706026   2009-12-16   \n",
       "1                357115007.0               2799439100   2019-04-24   \n",
       "3                 28638131.0               2264743305   1997-12-19   \n",
       "4                247966675.0               2071310218   2015-12-16   \n",
       "7                208806270.0               1671537444   2015-06-10   \n",
       "..                       ...                      ...          ...   \n",
       "994               36075875.0                180630907   2002-04-18   \n",
       "995               35648740.0                180622424   2002-09-27   \n",
       "996               29651193.0                180613824   2017-11-09   \n",
       "997               15190758.0                180563636   2016-11-03   \n",
       "998               20574802.0                180557550   2006-11-22   \n",
       "\n",
       "                                            Genre Running Time License Month  \n",
       "0    ['Action', 'Adventure', 'Fantasy', 'Sci-Fi']  2 hr 42 min   PG-13    12  \n",
       "1      ['Action', 'Adventure', 'Drama', 'Sci-Fi']   3 hr 1 min   PG-13    04  \n",
       "3                            ['Drama', 'Romance']  3 hr 14 min   PG-13    12  \n",
       "4               ['Action', 'Adventure', 'Sci-Fi']  2 hr 18 min   PG-13    12  \n",
       "7               ['Action', 'Adventure', 'Sci-Fi']   2 hr 4 min   PG-13    06  \n",
       "..                                            ...          ...     ...   ...  \n",
       "994            ['Action', 'Adventure', 'Fantasy']  1 hr 32 min   PG-13    04  \n",
       "995                         ['Comedy', 'Romance']  1 hr 48 min   PG-13    09  \n",
       "996                                    ['Comedy']  1 hr 40 min   PG-13    11  \n",
       "997      ['Biography', 'Drama', 'History', 'War']  2 hr 19 min       R    11  \n",
       "998     ['Action', 'Crime', 'Sci-Fi', 'Thriller']   2 hr 6 min   PG-13    11  \n",
       "\n",
       "[718 rows x 11 columns]"
      ]
     },
     "execution_count": 482,
     "metadata": {},
     "output_type": "execute_result"
    }
   ],
   "source": [
    "data = data.dropna()\n",
    "data.drop_duplicates()"
   ]
  },
  {
   "cell_type": "markdown",
   "id": "39d79a4f-4260-4256-b085-e1c030abcbb7",
   "metadata": {},
   "source": [
    "Checking for outliers"
   ]
  },
  {
   "cell_type": "code",
   "execution_count": 483,
   "id": "5f8d520c-0ccb-4c3a-99ab-a00856dda55b",
   "metadata": {},
   "outputs": [
    {
     "data": {
      "image/png": "[encoded data removed]",
      "text/plain": [
       "<Figure size 640x480 with 1 Axes>"
      ]
     },
     "metadata": {},
     "output_type": "display_data"
    }
   ],
   "source": [
    "data.boxplot(column=['World Wide Sales (in $)'])\n",
    "\n",
    "plt.show()"
   ]
  },
  {
   "cell_type": "markdown",
   "id": "1dfddcff-725d-44d0-887a-2707535a6348",
   "metadata": {},
   "source": [
    "Removing Outliers"
   ]
  },
  {
   "cell_type": "code",
   "execution_count": 484,
   "id": "21ac0a5b-09a1-40c7-8dc5-120c961f4d6a",
   "metadata": {},
   "outputs": [],
   "source": [
    "z_scores = stats.zscore(data['World Wide Sales (in $)'])\n",
    "abs_z_scores = np.abs(z_scores)\n",
    "filtered_entries = (abs_z_scores < 2)\n",
    "data = data[filtered_entries]"
   ]
  },
  {
   "cell_type": "code",
   "execution_count": 485,
   "id": "cb8944f6-1902-419c-b281-9a16b25719ef",
   "metadata": {},
   "outputs": [
    {
     "data": {
      "image/png": "[encoded data removed]",
      "text/plain": [
       "<Figure size 640x480 with 1 Axes>"
      ]
     },
     "metadata": {},
     "output_type": "display_data"
    }
   ],
   "source": [
    "data.boxplot(column=['World Wide Sales (in $)'])\n",
    "\n",
    "plt.show()"
   ]
  },
  {
   "cell_type": "markdown",
   "id": "decfa4f4-fe92-43a9-82fb-f78388a03288",
   "metadata": {},
   "source": [
    "Data Exploration"
   ]
  },
  {
   "cell_type": "code",
   "execution_count": 486,
   "id": "1ef1e486-6618-4735-9f76-4b93c292de2b",
   "metadata": {},
   "outputs": [
    {
     "data": {
      "text/plain": [
       "Text(0.5, 1.0, 'Worlwide Sales vs Budget')"
      ]
     },
     "execution_count": 486,
     "metadata": {},
     "output_type": "execute_result"
    },
    {
     "data": {
      "image/png": "[encoded data removed]",
      "text/plain": [
       "<Figure size 640x480 with 1 Axes>"
      ]
     },
     "metadata": {},
     "output_type": "display_data"
    }
   ],
   "source": [
    "# looking at correlation\n",
    "\n",
    "sns.regplot(x='Budget (in $)', y='World Wide Sales (in $)', data=data, scatter_kws={'color':'red'},line_kws = {\"color\": \"blue\"}).set_title('Worlwide Sales vs Budget')"
   ]
  },
  {
   "cell_type": "markdown",
   "id": "b869e316-9639-4bdd-9d4a-207711f9eebf",
   "metadata": {},
   "source": [
    "Based on this graph, we can say that worldwide sales is influenced by budget. Although, the trend line is surrounded by a wide spread of data points, insinuating that other variables influence worldwide sales."
   ]
  },
  {
   "cell_type": "markdown",
   "id": "ced7440c-c940-48c3-b0b3-2a63601019da",
   "metadata": {},
   "source": [
    "### Correlation Matrix:"
   ]
  },
  {
   "cell_type": "markdown",
   "id": "ae0295aa-6b87-4d29-b785-315060670419",
   "metadata": {},
   "source": [
    "Let's analyse the relationship between worlwide sales and all the other variables to see what has the greatest influence on movie sales."
   ]
  },
  {
   "cell_type": "markdown",
   "id": "8442381b-a6be-4b1f-b7dd-b0c6952de4c5",
   "metadata": {},
   "source": [
    "Convert all columns to numeric values - this will help us understand the correlation between each variable and not just the numeric values."
   ]
  },
  {
   "cell_type": "code",
   "execution_count": 487,
   "id": "8a8bda11-a8e9-4148-b69d-f6e2a98a2221",
   "metadata": {},
   "outputs": [],
   "source": [
    "data_numeric = data.copy()\n",
    "\n",
    "for col_name in data_numeric.columns:\n",
    "    if(data_numeric[col_name].dtype == 'object'):\n",
    "        data_numeric[col_name]=data_numeric[col_name].astype('category')\n",
    "        data_numeric[col_name]=data_numeric[col_name].cat.codes"
   ]
  },
  {
   "cell_type": "markdown",
   "id": "0fe3a1fa-3bec-40d3-83c4-db794ec9ed22",
   "metadata": {},
   "source": [
    "Looking at the highest correlation:"
   ]
  },
  {
   "cell_type": "code",
   "execution_count": 488,
   "id": "b6279271-10ef-4eeb-b344-b921242b1b4d",
   "metadata": {},
   "outputs": [
    {
     "data": {
      "text/plain": [
       "Domestic Opening (in $)  World Wide Sales (in $)    0.679296\n",
       "World Wide Sales (in $)  Domestic Opening (in $)    0.679296\n",
       "Year                     Release Date               0.999243\n",
       "Release Date             Year                       0.999243\n",
       "Title                    Title                      1.000000\n",
       "World Wide Sales (in $)  World Wide Sales (in $)    1.000000\n",
       "Running Time             Running Time               1.000000\n",
       "Genre                    Genre                      1.000000\n",
       "Release Date             Release Date               1.000000\n",
       "Domestic Opening (in $)  Domestic Opening (in $)    1.000000\n",
       "Budget (in $)            Budget (in $)              1.000000\n",
       "Distributor              Distributor                1.000000\n",
       "Year                     Year                       1.000000\n",
       "License                  License                    1.000000\n",
       "Month                    Month                      1.000000\n",
       "dtype: float64"
      ]
     },
     "execution_count": 488,
     "metadata": {},
     "output_type": "execute_result"
    }
   ],
   "source": [
    "corr_mat = data_numeric.corr()\n",
    "\n",
    "corr_pairs = corr_mat.unstack()\n",
    "\n",
    "# Sorting the correlation pairs\n",
    "sorted_pairs = corr_pairs.sort_values()\n",
    "\n",
    "# Including only pairs that have a correlation greater than 0.5.\n",
    "# A correlation coefficient of 0.5 or larger represents a strong or large correlation.\n",
    "high_corr = sorted_pairs[(sorted_pairs) > 0.5]  \n",
    "\n",
    "high_corr"
   ]
  },
  {
   "cell_type": "markdown",
   "id": "0f10e907-4cf3-44af-8f10-1265700b38ba",
   "metadata": {},
   "source": [
    "Data Visualisation:"
   ]
  },
  {
   "cell_type": "code",
   "execution_count": 489,
   "id": "05652ee7-b842-4fd1-99d2-6c67824babd1",
   "metadata": {},
   "outputs": [
    {
     "data": {
      "image/png": "[encoded data removed]",
      "text/plain": [
       "<Figure size 640x480 with 2 Axes>"
      ]
     },
     "metadata": {},
     "output_type": "display_data"
    }
   ],
   "source": [
    "corr_matrix = data_numeric.corr(method = 'pearson')\n",
    "\n",
    "sns.heatmap(corr_matrix, annot = True)\n",
    "plt.title('Correlation Matrix for Movies')\n",
    "plt.xlabel('Features')\n",
    "plt.ylabel('Features')\n",
    "plt.show()"
   ]
  },
  {
   "cell_type": "markdown",
   "id": "5b2b1efe-2a39-44d5-9ef5-21d25f892574",
   "metadata": {},
   "source": [
    "Conclusion: Domestic Opening had the strongest correlation with worldwide sales, which suggests that the release date of the movie influences the success of the movie. Budget also had a strong correlation with worldwide sales. Other variables, such as release date, genre and running time appear to be less influential on worlwide sales.\n"
   ]
  },
  {
   "cell_type": "markdown",
   "id": "cd5fe01c-79d2-41fd-b867-72cd1aa7d230",
   "metadata": {},
   "source": [
    "Determining the best time of the year to release a movie:"
   ]
  },
  {
   "cell_type": "markdown",
   "id": "1e169364-7076-4cf7-9c39-d05231d4dfab",
   "metadata": {},
   "source": [
    "Tabulating the data:"
   ]
  },
  {
   "cell_type": "code",
   "execution_count": 490,
   "id": "f4d97757-9ad8-413e-ae22-91c60fa7fd95",
   "metadata": {},
   "outputs": [
    {
     "data": {
      "text/html": [
       "<div>\n",
       "<style scoped>\n",
       "    .dataframe tbody tr th:only-of-type {\n",
       "        vertical-align: middle;\n",
       "    }\n",
       "\n",
       "    .dataframe tbody tr th {\n",
       "        vertical-align: top;\n",
       "    }\n",
       "\n",
       "    .dataframe thead th {\n",
       "        text-align: right;\n",
       "    }\n",
       "</style>\n",
       "<table border=\"1\" class=\"dataframe\">\n",
       "  <thead>\n",
       "    <tr style=\"text-align: right;\">\n",
       "      <th></th>\n",
       "      <th>Title</th>\n",
       "      <th>Year</th>\n",
       "      <th>Distributor</th>\n",
       "      <th>Budget (in $)</th>\n",
       "      <th>Domestic Opening (in $)</th>\n",
       "      <th>World Wide Sales (in $)</th>\n",
       "      <th>Release Date</th>\n",
       "      <th>Genre</th>\n",
       "      <th>Running Time</th>\n",
       "      <th>License</th>\n",
       "    </tr>\n",
       "    <tr>\n",
       "      <th>Month</th>\n",
       "      <th></th>\n",
       "      <th></th>\n",
       "      <th></th>\n",
       "      <th></th>\n",
       "      <th></th>\n",
       "      <th></th>\n",
       "      <th></th>\n",
       "      <th></th>\n",
       "      <th></th>\n",
       "      <th></th>\n",
       "    </tr>\n",
       "  </thead>\n",
       "  <tbody>\n",
       "    <tr>\n",
       "      <th>0</th>\n",
       "      <td>327.166667</td>\n",
       "      <td>2015.166667</td>\n",
       "      <td>24.444444</td>\n",
       "      <td>7.805556e+07</td>\n",
       "      <td>3.614760e+07</td>\n",
       "      <td>3.274438e+08</td>\n",
       "      <td>2015-05-18 08:00:00.000000000</td>\n",
       "      <td>90.666667</td>\n",
       "      <td>38.222222</td>\n",
       "      <td>1.777778</td>\n",
       "    </tr>\n",
       "    <tr>\n",
       "      <th>1</th>\n",
       "      <td>322.914286</td>\n",
       "      <td>2010.942857</td>\n",
       "      <td>24.342857</td>\n",
       "      <td>7.564286e+07</td>\n",
       "      <td>4.068944e+07</td>\n",
       "      <td>2.999878e+08</td>\n",
       "      <td>2011-01-22 04:48:00.000000000</td>\n",
       "      <td>142.742857</td>\n",
       "      <td>34.085714</td>\n",
       "      <td>2.171429</td>\n",
       "    </tr>\n",
       "    <tr>\n",
       "      <th>2</th>\n",
       "      <td>295.489796</td>\n",
       "      <td>2010.428571</td>\n",
       "      <td>24.122449</td>\n",
       "      <td>1.059878e+08</td>\n",
       "      <td>4.915889e+07</td>\n",
       "      <td>3.871651e+08</td>\n",
       "      <td>2010-08-26 23:30:36.734693888</td>\n",
       "      <td>103.387755</td>\n",
       "      <td>34.142857</td>\n",
       "      <td>1.897959</td>\n",
       "    </tr>\n",
       "    <tr>\n",
       "      <th>3</th>\n",
       "      <td>333.391304</td>\n",
       "      <td>2009.260870</td>\n",
       "      <td>24.000000</td>\n",
       "      <td>1.012609e+08</td>\n",
       "      <td>5.550520e+07</td>\n",
       "      <td>4.075309e+08</td>\n",
       "      <td>2009-07-20 02:05:13.043478272</td>\n",
       "      <td>121.869565</td>\n",
       "      <td>35.260870</td>\n",
       "      <td>1.913043</td>\n",
       "    </tr>\n",
       "    <tr>\n",
       "      <th>4</th>\n",
       "      <td>379.872340</td>\n",
       "      <td>2007.223404</td>\n",
       "      <td>24.191489</td>\n",
       "      <td>1.222330e+08</td>\n",
       "      <td>5.373456e+07</td>\n",
       "      <td>4.757915e+08</td>\n",
       "      <td>2007-07-31 22:43:24.255319040</td>\n",
       "      <td>104.457447</td>\n",
       "      <td>46.095745</td>\n",
       "      <td>1.978723</td>\n",
       "    </tr>\n",
       "    <tr>\n",
       "      <th>5</th>\n",
       "      <td>343.666667</td>\n",
       "      <td>2006.638095</td>\n",
       "      <td>24.828571</td>\n",
       "      <td>9.745905e+07</td>\n",
       "      <td>4.190675e+07</td>\n",
       "      <td>3.980580e+08</td>\n",
       "      <td>2007-02-05 15:18:51.428571392</td>\n",
       "      <td>113.619048</td>\n",
       "      <td>36.152381</td>\n",
       "      <td>1.866667</td>\n",
       "    </tr>\n",
       "    <tr>\n",
       "      <th>6</th>\n",
       "      <td>359.190476</td>\n",
       "      <td>2007.714286</td>\n",
       "      <td>23.238095</td>\n",
       "      <td>1.115638e+08</td>\n",
       "      <td>4.335178e+07</td>\n",
       "      <td>4.220215e+08</td>\n",
       "      <td>2008-03-28 12:34:17.142857216</td>\n",
       "      <td>99.678571</td>\n",
       "      <td>38.047619</td>\n",
       "      <td>2.059524</td>\n",
       "    </tr>\n",
       "    <tr>\n",
       "      <th>7</th>\n",
       "      <td>383.641026</td>\n",
       "      <td>2008.512821</td>\n",
       "      <td>22.051282</td>\n",
       "      <td>7.447436e+07</td>\n",
       "      <td>3.820260e+07</td>\n",
       "      <td>2.963143e+08</td>\n",
       "      <td>2009-01-24 11:04:36.923076864</td>\n",
       "      <td>134.948718</td>\n",
       "      <td>32.794872</td>\n",
       "      <td>2.333333</td>\n",
       "    </tr>\n",
       "    <tr>\n",
       "      <th>8</th>\n",
       "      <td>306.363636</td>\n",
       "      <td>2011.878788</td>\n",
       "      <td>23.242424</td>\n",
       "      <td>6.095500e+07</td>\n",
       "      <td>3.414987e+07</td>\n",
       "      <td>3.059367e+08</td>\n",
       "      <td>2012-08-25 22:32:43.636363520</td>\n",
       "      <td>151.272727</td>\n",
       "      <td>31.545455</td>\n",
       "      <td>2.060606</td>\n",
       "    </tr>\n",
       "    <tr>\n",
       "      <th>9</th>\n",
       "      <td>319.853659</td>\n",
       "      <td>2011.439024</td>\n",
       "      <td>21.609756</td>\n",
       "      <td>9.130488e+07</td>\n",
       "      <td>4.203576e+07</td>\n",
       "      <td>3.939314e+08</td>\n",
       "      <td>2012-03-24 21:39:30.731707392</td>\n",
       "      <td>143.048780</td>\n",
       "      <td>34.902439</td>\n",
       "      <td>2.048780</td>\n",
       "    </tr>\n",
       "    <tr>\n",
       "      <th>10</th>\n",
       "      <td>308.771429</td>\n",
       "      <td>2007.314286</td>\n",
       "      <td>22.342857</td>\n",
       "      <td>9.473714e+07</td>\n",
       "      <td>4.379385e+07</td>\n",
       "      <td>4.029433e+08</td>\n",
       "      <td>2008-03-08 09:56:34.285714176</td>\n",
       "      <td>144.328571</td>\n",
       "      <td>43.600000</td>\n",
       "      <td>1.900000</td>\n",
       "    </tr>\n",
       "    <tr>\n",
       "      <th>11</th>\n",
       "      <td>342.784946</td>\n",
       "      <td>2007.129032</td>\n",
       "      <td>23.010753</td>\n",
       "      <td>8.393871e+07</td>\n",
       "      <td>2.066775e+07</td>\n",
       "      <td>3.429797e+08</td>\n",
       "      <td>2008-02-01 20:54:11.612903168</td>\n",
       "      <td>157.043011</td>\n",
       "      <td>45.913978</td>\n",
       "      <td>1.913978</td>\n",
       "    </tr>\n",
       "  </tbody>\n",
       "</table>\n",
       "</div>"
      ],
      "text/plain": [
       "            Title         Year  Distributor  Budget (in $)  \\\n",
       "Month                                                        \n",
       "0      327.166667  2015.166667    24.444444   7.805556e+07   \n",
       "1      322.914286  2010.942857    24.342857   7.564286e+07   \n",
       "2      295.489796  2010.428571    24.122449   1.059878e+08   \n",
       "3      333.391304  2009.260870    24.000000   1.012609e+08   \n",
       "4      379.872340  2007.223404    24.191489   1.222330e+08   \n",
       "5      343.666667  2006.638095    24.828571   9.745905e+07   \n",
       "6      359.190476  2007.714286    23.238095   1.115638e+08   \n",
       "7      383.641026  2008.512821    22.051282   7.447436e+07   \n",
       "8      306.363636  2011.878788    23.242424   6.095500e+07   \n",
       "9      319.853659  2011.439024    21.609756   9.130488e+07   \n",
       "10     308.771429  2007.314286    22.342857   9.473714e+07   \n",
       "11     342.784946  2007.129032    23.010753   8.393871e+07   \n",
       "\n",
       "       Domestic Opening (in $)  World Wide Sales (in $)  \\\n",
       "Month                                                     \n",
       "0                 3.614760e+07             3.274438e+08   \n",
       "1                 4.068944e+07             2.999878e+08   \n",
       "2                 4.915889e+07             3.871651e+08   \n",
       "3                 5.550520e+07             4.075309e+08   \n",
       "4                 5.373456e+07             4.757915e+08   \n",
       "5                 4.190675e+07             3.980580e+08   \n",
       "6                 4.335178e+07             4.220215e+08   \n",
       "7                 3.820260e+07             2.963143e+08   \n",
       "8                 3.414987e+07             3.059367e+08   \n",
       "9                 4.203576e+07             3.939314e+08   \n",
       "10                4.379385e+07             4.029433e+08   \n",
       "11                2.066775e+07             3.429797e+08   \n",
       "\n",
       "                       Release Date       Genre  Running Time   License  \n",
       "Month                                                                    \n",
       "0     2015-05-18 08:00:00.000000000   90.666667     38.222222  1.777778  \n",
       "1     2011-01-22 04:48:00.000000000  142.742857     34.085714  2.171429  \n",
       "2     2010-08-26 23:30:36.734693888  103.387755     34.142857  1.897959  \n",
       "3     2009-07-20 02:05:13.043478272  121.869565     35.260870  1.913043  \n",
       "4     2007-07-31 22:43:24.255319040  104.457447     46.095745  1.978723  \n",
       "5     2007-02-05 15:18:51.428571392  113.619048     36.152381  1.866667  \n",
       "6     2008-03-28 12:34:17.142857216   99.678571     38.047619  2.059524  \n",
       "7     2009-01-24 11:04:36.923076864  134.948718     32.794872  2.333333  \n",
       "8     2012-08-25 22:32:43.636363520  151.272727     31.545455  2.060606  \n",
       "9     2012-03-24 21:39:30.731707392  143.048780     34.902439  2.048780  \n",
       "10    2008-03-08 09:56:34.285714176  144.328571     43.600000  1.900000  \n",
       "11    2008-02-01 20:54:11.612903168  157.043011     45.913978  1.913978  "
      ]
     },
     "execution_count": 490,
     "metadata": {},
     "output_type": "execute_result"
    }
   ],
   "source": [
    "data_numeric.groupby(['Month']).mean()"
   ]
  },
  {
   "cell_type": "markdown",
   "id": "051c98b8-4114-41a2-9a34-fcd44400413a",
   "metadata": {},
   "source": [
    "Data Visualisation:"
   ]
  },
  {
   "cell_type": "code",
   "execution_count": 491,
   "id": "c3a4fbcd-a8ed-442f-893a-f0b5861db985",
   "metadata": {},
   "outputs": [
    {
     "name": "stdout",
     "output_type": "stream",
     "text": [
      "range(1, 13)\n"
     ]
    },
    {
     "data": {
      "image/png": "[encoded data removed]",
      "text/plain": [
       "<Figure size 640x480 with 1 Axes>"
      ]
     },
     "metadata": {},
     "output_type": "display_data"
    }
   ],
   "source": [
    "months = range(1,13)\n",
    "print(months)\n",
    "\n",
    "plt.bar(months, data_numeric.groupby(['Month']).sum(numeric_only=True)['World Wide Sales (in $)'], color='red')\n",
    "plt.xticks(months)\n",
    "plt.title('Movie Sales by Month')\n",
    "plt.xlabel('Months')\n",
    "plt.ylabel('World Wide Sales')\n",
    "plt.show()"
   ]
  },
  {
   "cell_type": "markdown",
   "id": "2198181f-5523-48ae-a39b-5cb798a7831c",
   "metadata": {},
   "source": [
    "Conclusion: The best month to release a movie is May, based on the overall worldwide sales."
   ]
  },
  {
   "cell_type": "markdown",
   "id": "dd1754e3-8d29-4d87-a8a4-e0b0b30d7ec9",
   "metadata": {},
   "source": [
    "### What is the best runtime for a movie?"
   ]
  },
  {
   "cell_type": "markdown",
   "id": "c2a7f789-0fe2-46b2-b56b-63d90ed1e3bf",
   "metadata": {},
   "source": [
    "First we will need to convert the 'running time' variable into minutes:"
   ]
  },
  {
   "cell_type": "code",
   "execution_count": 492,
   "id": "90dee014-7d53-42ab-905a-a997189e7860",
   "metadata": {},
   "outputs": [
    {
     "data": {
      "text/html": [
       "<div>\n",
       "<style scoped>\n",
       "    .dataframe tbody tr th:only-of-type {\n",
       "        vertical-align: middle;\n",
       "    }\n",
       "\n",
       "    .dataframe tbody tr th {\n",
       "        vertical-align: top;\n",
       "    }\n",
       "\n",
       "    .dataframe thead th {\n",
       "        text-align: right;\n",
       "    }\n",
       "</style>\n",
       "<table border=\"1\" class=\"dataframe\">\n",
       "  <thead>\n",
       "    <tr style=\"text-align: right;\">\n",
       "      <th></th>\n",
       "      <th>Title</th>\n",
       "      <th>Running Time</th>\n",
       "      <th>Running Time (min)</th>\n",
       "    </tr>\n",
       "  </thead>\n",
       "  <tbody>\n",
       "    <tr>\n",
       "      <th>44</th>\n",
       "      <td>Despicable Me 3</td>\n",
       "      <td>1 hr 29 min</td>\n",
       "      <td>89.0</td>\n",
       "    </tr>\n",
       "    <tr>\n",
       "      <th>46</th>\n",
       "      <td>Star Wars: Episode I - The Phantom Menace</td>\n",
       "      <td>2 hr 16 min</td>\n",
       "      <td>136.0</td>\n",
       "    </tr>\n",
       "    <tr>\n",
       "      <th>48</th>\n",
       "      <td>Alice in Wonderland</td>\n",
       "      <td>1 hr 48 min</td>\n",
       "      <td>108.0</td>\n",
       "    </tr>\n",
       "    <tr>\n",
       "      <th>49</th>\n",
       "      <td>Harry Potter and the Sorcerer's Stone</td>\n",
       "      <td>2 hr 32 min</td>\n",
       "      <td>152.0</td>\n",
       "    </tr>\n",
       "    <tr>\n",
       "      <th>51</th>\n",
       "      <td>The Dark Knight</td>\n",
       "      <td>2 hr 32 min</td>\n",
       "      <td>152.0</td>\n",
       "    </tr>\n",
       "  </tbody>\n",
       "</table>\n",
       "</div>"
      ],
      "text/plain": [
       "                                        Title Running Time  Running Time (min)\n",
       "44                            Despicable Me 3  1 hr 29 min                89.0\n",
       "46  Star Wars: Episode I - The Phantom Menace  2 hr 16 min               136.0\n",
       "48                        Alice in Wonderland  1 hr 48 min               108.0\n",
       "49      Harry Potter and the Sorcerer's Stone  2 hr 32 min               152.0\n",
       "51                            The Dark Knight  2 hr 32 min               152.0"
      ]
     },
     "execution_count": 492,
     "metadata": {},
     "output_type": "execute_result"
    }
   ],
   "source": [
    "def convert_to_minutes(time_str):\n",
    "    match = re.match(r\"(\\d+)\\s*hr\\s*(\\d+)\\s*min\", str(time_str))\n",
    "    if match:\n",
    "        hours = int(match.group(1))\n",
    "        minutes = int(match.group(2))\n",
    "        return hours * 60 + minutes\n",
    "    return None\n",
    "\n",
    "data['Running Time (min)'] = data['Running Time'].apply(convert_to_minutes)\n",
    "\n",
    "data[['Title', 'Running Time', 'Running Time (min)']].head()"
   ]
  },
  {
   "cell_type": "code",
   "execution_count": 493,
   "id": "1f58448e-73c8-44cb-907d-220515bf3707",
   "metadata": {},
   "outputs": [
    {
     "data": {
      "text/plain": [
       "Running Time (min)\n",
       "167.0    1.937725e+08\n",
       "80.0     2.031724e+08\n",
       "83.0     2.070398e+08\n",
       "162.0    2.086796e+08\n",
       "170.0    2.137199e+08\n",
       "             ...     \n",
       "149.0    6.552137e+08\n",
       "142.0    7.060649e+08\n",
       "152.0    7.520019e+08\n",
       "148.0    8.598680e+08\n",
       "179.0    9.479443e+08\n",
       "Name: World Wide Sales (in $), Length: 93, dtype: float64"
      ]
     },
     "execution_count": 493,
     "metadata": {},
     "output_type": "execute_result"
    }
   ],
   "source": [
    "worldwide_sales_average = data.groupby(['Running Time (min)'])['World Wide Sales (in $)'].mean()\n",
    "worldwide_sales_average.sort_values()"
   ]
  },
  {
   "cell_type": "markdown",
   "id": "8b22a288-b3f7-4bca-83d2-27163cdced5b",
   "metadata": {},
   "source": [
    "### Visualising the Data"
   ]
  },
  {
   "cell_type": "code",
   "execution_count": 494,
   "id": "c87a15b3-e24d-405a-a16b-d2238bba51d7",
   "metadata": {},
   "outputs": [
    {
     "data": {
      "image/png": "[encoded data removed]",
      "text/plain": [
       "<Figure size 640x480 with 1 Axes>"
      ]
     },
     "metadata": {},
     "output_type": "display_data"
    }
   ],
   "source": [
    "plt.bar(worldwide_sales_average.index, worldwide_sales_average, color = 'red')\n",
    "plt.xlabel('Runtime')\n",
    "plt.ylabel('World Wide Sales')\n",
    "plt.title('Runtime Vs World Wide Sales')\n",
    "\n",
    "plt.show()"
   ]
  },
  {
   "cell_type": "markdown",
   "id": "66e5fb63-a5b3-405e-a59b-6e7890838288",
   "metadata": {},
   "source": [
    "Conclusion: Based on the plot, the best runtime for a movie is ideally between 120 to 160 minutes."
   ]
  },
  {
   "cell_type": "markdown",
   "id": "882e54ac-b4e0-4084-9b0d-8df38cc9624c",
   "metadata": {},
   "source": [
    "### What License has the most success?"
   ]
  },
  {
   "cell_type": "code",
   "execution_count": 507,
   "id": "2f721026-4dd0-4dd5-92a2-c21ada9a5985",
   "metadata": {},
   "outputs": [
    {
     "data": {
      "image/png": "[encoded data removed]",
      "text/plain": [
       "<Figure size 640x480 with 2 Axes>"
      ]
     },
     "metadata": {},
     "output_type": "display_data"
    }
   ],
   "source": [
    "# Get the sum and mean of sales for each license\n",
    "grouped_data = data.groupby(['License'])['World Wide Sales (in $)'].agg(['sum','mean'])\n",
    "license = grouped_data.index.tolist()\n",
    "sum_sales = grouped_data['sum'].tolist()\n",
    "mean_sales = grouped_data['mean'].tolist()\n",
    "\n",
    "# set up the bar chart\n",
    "fig,ax1 = plt.subplots()\n",
    "\n",
    "# Plot the bar chart for sum of sales\n",
    "ax1.bar(license, sum_sales, color = 'tab:red', label = 'Sum Sales')\n",
    "\n",
    "# Add labels and title\n",
    "ax1.set_xlabel('License')\n",
    "ax1.set_ylabel('Sum of Sales', color = 'tab:red')\n",
    "ax1.tick_params(axis = 'y', labelcolor = 'tab:red')\n",
    "ax1.set_title('World Wide Sales by License')\n",
    "\n",
    "# Create a second y-axis for mean sales and coefficient of variation\n",
    "ax2 = ax1.twinx()\n",
    "\n",
    "# Plot the bar chart for mean sales and coefficient of variation\n",
    "ax2.bar(license,mean_sales, color = 'tab:blue', alpha = 0.5, label = 'Mean Sales')\n",
    "\n",
    "# Add labels and title\n",
    "ax2.set_ylabel('Mean Sales', color = 'tab:blue')\n",
    "ax2.tick_params(axis='y', labelcolor = 'tab:blue')\n",
    "\n",
    "# Add a legend\n",
    "fig.legend()\n",
    "\n",
    "# Adjust layout\n",
    "fig.tight_layout()\n",
    "\n",
    "plt.show()"
   ]
  },
  {
   "cell_type": "markdown",
   "id": "5bc1d214-76e2-4178-99a7-52c1b3a49966",
   "metadata": {},
   "source": [
    "Conclusion: PG-13 had the highest level of success overall, while G had the highest average success rate."
   ]
  },
  {
   "cell_type": "markdown",
   "id": "e68ff6e6-3600-4ea8-95c1-a46a1609896f",
   "metadata": {},
   "source": [
    "### Conclusion"
   ]
  },
  {
   "cell_type": "markdown",
   "id": "a62ef26b-5c86-4c43-a2d6-97f3269d6af0",
   "metadata": {},
   "source": [
    "This analysis revealed that the most signficant factors which contribute to the success of a movie were the movie's domestic opening, as well as the budget. Additionally, the analysis suggests that movies released in May and have a runtime of 120-160 minutes are more likely to succeed.\n",
    "\n",
    "Overall, my Python data analysis project provides insightful information about what factors contribute to a movies success."
   ]
  },
  {
   "cell_type": "code",
   "execution_count": null,
   "id": "bbc9d91a-c236-4b50-9c69-86866205d7f9",
   "metadata": {},
   "outputs": [],
   "source": []
  }
 ],
 "metadata": {
  "kernelspec": {
   "display_name": "Python 3 (ipykernel)",
   "language": "python",
   "name": "python3"
  },
  "language_info": {
   "codemirror_mode": {
    "name": "ipython",
    "version": 3
   },
   "file_extension": ".py",
   "mimetype": "text/x-python",
   "name": "python",
   "nbconvert_exporter": "python",
   "pygments_lexer": "ipython3",
   "version": "3.11.7"
  }
 },
 "nbformat": 4,
 "nbformat_minor": 5
}
